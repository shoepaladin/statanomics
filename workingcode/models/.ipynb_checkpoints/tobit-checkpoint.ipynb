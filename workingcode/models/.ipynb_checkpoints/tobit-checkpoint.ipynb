{
 "cells": [
  {
   "cell_type": "markdown",
   "id": "9be44be4",
   "metadata": {},
   "source": [
    "# Tobit model\n",
    "9jul2022\n",
    "\n",
    "https://en.wikipedia.org/wiki/Tobit_model\n",
    "\n",
    "A tobit model is to deal with the scenario where we have a continuous outcome with a bottom or top coding:\n",
    "\n",
    "$$\n",
    "y = \n",
    "\\begin{cases}\n",
    "y^*, & \\text{if } y^* > y_L\\\\\n",
    "0, & \\text{if } y^* \\leq y_L\n",
    "\\end{cases}$$\n",
    "\n",
    "where $y = \\beta X + \\epsilon$ where $X$ can allow variation over differ dimensions, for example at the unit, time, or group level. Where $\\epsilon$ is distributed normally, we can estimate $\\beta$ by estimating this log-likelihood function:\n",
    "$$ log(\\Lambda) = \\sum_{y> y_L} [ log \\gamma + log (\\phi (\\gamma y - X \\beta \\gamma) ] + \\sum_{y = y_L} log[\\Phi(\\gamma y_L - X \\beta \\gamma ]$$\n",
    "where $\\phi$ is the standard normal pdf and $\\Phi$ as the standard normal cdf. Note that $\\gamma = \\sigma^{-1}$ where $\\sigma$ is the variance of the normal cdf. When $y_L=0$ , we have lower censoring at zero.\n",
    "\n",
    "Note that for causal interpetation, we cannot directly interpret $\\beta$ as the causal impact on $y$. Since we have the external margin of being above zero, it is a combination of (1) the impact above $y_L$ weighted by the probability of being above $y_L$ , and (2) the impact of being above $y_L$ weighted by the expected value of $y$ if above $y_L$. "
   ]
  },
  {
   "cell_type": "code",
   "execution_count": 134,
   "id": "b523a303",
   "metadata": {},
   "outputs": [],
   "source": [
    "from scipy.stats import norm\n",
    "import numpy as np\n",
    "import pandas as pd\n",
    "from scipy.optimize import minimize\n",
    "\n",
    "from matplotlib import gridspec\n",
    "import matplotlib.pyplot as plt\n",
    "%matplotlib inline  \n",
    "\n",
    "\n",
    "def log_pdf(true_y, predicted_y, gamma, beta):\n",
    "    sigma = (gamma**(2))**(-1/2)\n",
    "    a = -1 * ( sigma * np.sqrt(2 * np.pi )  )\n",
    "    b = np.power( -(1/2) * (true_y - predicted_y)/sigma, 2)\n",
    "    return a + b\n",
    "\n",
    "def log_ll_continuous(true_y, predicted_y, gamma, beta):\n",
    "    A = sigma = (gamma**(2))**(-1/2)    \n",
    "    B = np.log(gamma) + log_pdf(true_y, predicted_y, gamma, beta)\n",
    "    return np.sum( A + B )\n",
    "    \n",
    "def log_ll_limit(true_y, predicted_y, gamma, beta):\n",
    "    sigma = (gamma**(2))**(-1/2)\n",
    "    C = norm.logcdf( (true_y - predicted_y)/sigma)\n",
    "    return np.sum(C)\n",
    "\n",
    "\n",
    "def tobit_ll(parameters,y,X):\n",
    "#     gamma = parameters[0]\n",
    "#     beta = parameters[1:]\n",
    "    beta = parameters[:]\n",
    "    y_censored = y.loc[(y==0)]\n",
    "    y_noncensd = y.loc[(y > 0)]\n",
    "    if len(beta)==1:\n",
    "        predicted_y = X*beta\n",
    "    else:\n",
    "        predicted_y = np.dot(X, beta)\n",
    "    \n",
    "    continuous = log_ll_continuous(y_noncensd, \n",
    "                                   predicted_y.loc[(y > 0)], \n",
    "                                   1, beta)\n",
    "    limit = log_ll_limit(y_censored, \n",
    "                         predicted_y.loc[(y == 0)], \n",
    "                         1, beta)\n",
    "    return continuous + limit\n",
    "\n",
    "\n"
   ]
  },
  {
   "cell_type": "code",
   "execution_count": 135,
   "id": "77c70398",
   "metadata": {},
   "outputs": [],
   "source": [
    "def tobit_simulate_data(coef, censor):\n",
    "    x = np.random.uniform(-1,1,1000)\n",
    "    y = np.random.uniform(-1,1,) +\\\n",
    "        coef * x +\\\n",
    "        np.random.normal(loc=0,scale=1, size=1000)\n",
    "    df = pd.DataFrame(data={'x1':x, 'y':y})\n",
    "    \n",
    "    ## Shift the data so that a given percent are censored\n",
    "    y_limit = np.percentile(y, censor)\n",
    "    df['y_obs'] = df['y'].values\n",
    "    df.loc[(df['y'] <= y_limit), 'y_obs']=0\n",
    "    df.loc[(df['y']  > y_limit)] = df.loc[(df['y_obs']  > y_limit)] - y_limit\n",
    "    return df\n",
    "\n",
    "    "
   ]
  },
  {
   "cell_type": "code",
   "execution_count": 137,
   "id": "ab797415",
   "metadata": {},
   "outputs": [
    {
     "name": "stderr",
     "output_type": "stream",
     "text": [
      "No handles with labels found to put in legend.\n"
     ]
    },
    {
     "name": "stdout",
     "output_type": "stream",
     "text": [
      "      fun: -4.290447221798895e+25\n",
      " hess_inv: <1x1 LbfgsInvHessProduct with dtype=float64>\n",
      "      jac: array([1897.34172592])\n",
      "  message: 'ABNORMAL_TERMINATION_IN_LNSRCH'\n",
      "     nfev: 42\n",
      "      nit: 0\n",
      "     njev: 21\n",
      "   status: 2\n",
      "  success: False\n",
      "        x: array([-0.95])\n"
     ]
    },
    {
     "data": {
      "image/png": "[encoded data removed]",
      "text/plain": [
       "<Figure size 432x288 with 1 Axes>"
      ]
     },
     "metadata": {
      "needs_background": "light"
     },
     "output_type": "display_data"
    }
   ],
   "source": [
    "true_est = 2\n",
    "df = tobit_simulate_data(coef= true_est, censor = 10)\n",
    "\n",
    "x_initial = [-0.95]\n",
    "res = minimize(tobit_ll, x0 = x_initial, \n",
    "               args=(df['y_obs'], df['x1']), \n",
    "              method='L-BFGS-B')\n",
    "print(res)\n",
    "\n",
    "## Show the log-likelihood over different values of the coefficient\n",
    "c_range = np.arange(true_est - 1, true_est +1, 0.05)\n",
    "y_values = [ tobit_ll([c],df['y_obs'],df['x1']) for c in c_range]\n",
    "plt.scatter(c_range, y_values , color='royalblue')\n",
    "plt.vlines(true_est, np.min(y_values), np.max(y_values) , color='black')\n",
    "plt.vlines(res.x, np.min(y_values), np.max(y_values) , color='red')\n",
    "plt.legend()\n",
    "plt.xlabel('Coefficient values')\n",
    "plt.ylabel('Log-likelihood values')\n",
    "plt.show()\n"
   ]
  },
  {
   "cell_type": "code",
   "execution_count": null,
   "id": "aa95d9bb",
   "metadata": {},
   "outputs": [
    {
     "name": "stdout",
     "output_type": "stream",
     "text": [
      "-3\n"
     ]
    }
   ],
   "source": [
    "df_sim = pd.DataFrame()\n",
    "coeff_rows = range(-3,3,1)\n",
    "\n",
    "for i, true_est in zip( range(len(coeff_rows)),  coeff_rows ):\n",
    "    sim_bias = []\n",
    "    print(true_est)\n",
    "    for s in range(5):\n",
    "        df = tobit_simulate_data(coef= true_est, censor = 10)\n",
    "        res = minimize(tobit_ll, x0 = [0.05], \n",
    "                       args=(df['y_obs'], df['x1']), \n",
    "                      method='BFGS')\n",
    "        if res.success==True:\n",
    "            sim_bias.append( np.abs(true_est - res.x)  )\n",
    "    row = pd.DataFrame(index=[i], data={'true':true_est, 'bias': np.mean(sim_bias)} )\n",
    "    df_sim = pd.concat([df_sim, row], axis=0)"
   ]
  },
  {
   "cell_type": "code",
   "execution_count": 152,
   "id": "4b92e197",
   "metadata": {},
   "outputs": [
    {
     "data": {
      "text/html": [
       "<div>\n",
       "<style scoped>\n",
       "    .dataframe tbody tr th:only-of-type {\n",
       "        vertical-align: middle;\n",
       "    }\n",
       "\n",
       "    .dataframe tbody tr th {\n",
       "        vertical-align: top;\n",
       "    }\n",
       "\n",
       "    .dataframe thead th {\n",
       "        text-align: right;\n",
       "    }\n",
       "</style>\n",
       "<table border=\"1\" class=\"dataframe\">\n",
       "  <thead>\n",
       "    <tr style=\"text-align: right;\">\n",
       "      <th></th>\n",
       "      <th>true</th>\n",
       "      <th>bias</th>\n",
       "    </tr>\n",
       "  </thead>\n",
       "  <tbody>\n",
       "    <tr>\n",
       "      <th>0</th>\n",
       "      <td>-3</td>\n",
       "      <td>NaN</td>\n",
       "    </tr>\n",
       "    <tr>\n",
       "      <th>1</th>\n",
       "      <td>-2</td>\n",
       "      <td>NaN</td>\n",
       "    </tr>\n",
       "    <tr>\n",
       "      <th>2</th>\n",
       "      <td>-1</td>\n",
       "      <td>NaN</td>\n",
       "    </tr>\n",
       "    <tr>\n",
       "      <th>3</th>\n",
       "      <td>0</td>\n",
       "      <td>90373269.8</td>\n",
       "    </tr>\n",
       "    <tr>\n",
       "      <th>4</th>\n",
       "      <td>1</td>\n",
       "      <td>90373270.8</td>\n",
       "    </tr>\n",
       "  </tbody>\n",
       "</table>\n",
       "</div>"
      ],
      "text/plain": [
       "   true        bias\n",
       "0    -3         NaN\n",
       "1    -2         NaN\n",
       "2    -1         NaN\n",
       "3     0  90373269.8\n",
       "4     1  90373270.8"
      ]
     },
     "metadata": {},
     "output_type": "display_data"
    }
   ],
   "source": [
    "display(df_sim.head())"
   ]
  },
  {
   "cell_type": "code",
   "execution_count": null,
   "id": "7e40094e",
   "metadata": {},
   "outputs": [],
   "source": []
  }
 ],
 "metadata": {
  "kernelspec": {
   "display_name": "Python 3 (ipykernel)",
   "language": "python",
   "name": "python3"
  },
  "language_info": {
   "codemirror_mode": {
    "name": "ipython",
    "version": 3
   },
   "file_extension": ".py",
   "mimetype": "text/x-python",
   "name": "python",
   "nbconvert_exporter": "python",
   "pygments_lexer": "ipython3",
   "version": "3.9.12"
  }
 },
 "nbformat": 4,
 "nbformat_minor": 5
}
